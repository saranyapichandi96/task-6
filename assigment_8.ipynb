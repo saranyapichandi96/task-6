{
  "nbformat": 4,
  "nbformat_minor": 0,
  "metadata": {
    "colab": {
      "provenance": [],
      "authorship_tag": "ABX9TyMg4q1MQCigd8zOQZZUv3+l",
      "include_colab_link": true
    },
    "kernelspec": {
      "name": "python3",
      "display_name": "Python 3"
    },
    "language_info": {
      "name": "python"
    }
  },
  "cells": [
    {
      "cell_type": "markdown",
      "metadata": {
        "id": "view-in-github",
        "colab_type": "text"
      },
      "source": [
        "<a href=\"https://colab.research.google.com/github/saranyapichandi96/task-6/blob/main/assigment_8.ipynb\" target=\"_parent\"><img src=\"https://colab.research.google.com/assets/colab-badge.svg\" alt=\"Open In Colab\"/></a>"
      ]
    },
    {
      "cell_type": "code",
      "source": [
        "import pandas as pd\n",
        "import matplotlib.pyplot as plt\n",
        "import numpy as np\n",
        "import itertools\n",
        "from sklearn import linear_model\n",
        "from sklearn.preprocessing import PolynomialFeatures\n",
        "from sklearn.pipeline import Pipeline\n",
        "\n"
      ],
      "metadata": {
        "id": "H3SymCCZ-rCu"
      },
      "execution_count": null,
      "outputs": []
    },
    {
      "cell_type": "code",
      "source": [
        "data = pd.read_csv('car_data.csv')\n",
        "data.head()"
      ],
      "metadata": {
        "id": "dnfqHy2e-t-I"
      },
      "execution_count": null,
      "outputs": []
    },
    {
      "cell_type": "code",
      "source": [
        "x = data[['Mileage']]\n",
        "y = data[['Price']]\n",
        "linreg = linear_model.LinearRegression()\n",
        "linreg.fit(x, y)\n",
        "\n",
        "print('intercept:', linreg.intercept_)\n",
        "print('coefficients:', linreg.coef_)\n",
        "print('r-squared:', linreg.score(x, y))"
      ],
      "metadata": {
        "id": "OObOVQOP-x3i"
      },
      "execution_count": null,
      "outputs": []
    },
    {
      "cell_type": "code",
      "source": [
        "plt.scatter(x, y, color='r')\n",
        "plt.plot(x, linreg.predict(x))\n",
        "plt.xlabel('Mileage')\n",
        "plt.ylabel('Price')\n",
        "plt.title('Mileage vs Price')"
      ],
      "metadata": {
        "id": "he-gsgvU-2g9"
      },
      "execution_count": null,
      "outputs": []
    },
    {
      "cell_type": "code",
      "source": [
        "degrees = 5\n",
        "fig, axs = plt.subplots(degrees, figsize = (10, 30))\n",
        "\n",
        "for degree in range(degrees):\n",
        "    model = Pipeline([\n",
        "        ('poly', PolynomialFeatures(degree=degree)),\n",
        "        ('linear', linear_model.LinearRegression(fit_intercept=False))])\n",
        "\n",
        "    points = 50000\n",
        "\n",
        "\n",
        "    model = model.fit(x, y)\n",
        "    model_score = model.score(x,y)\n",
        "\n",
        "    subplot = axs[degree]\n",
        "    subplot.plot(model.predict([[j] for j in range(points)]), color='r')\n",
        "    subplot.scatter(x, y)\n",
        "    subplot.set_title('{} degrees {} R-squeard'.format(degree, model_score))\n",
        "\n",
        "plt.show()"
      ],
      "metadata": {
        "id": "Af8OWDGZ-6F1"
      },
      "execution_count": null,
      "outputs": []
    },
    {
      "cell_type": "code",
      "source": [
        "feature = ['Mileage', 'Cylinder', 'Liter', 'Doors', 'Cruise', 'Sound', 'Leather']\n",
        "x = data[feature]\n",
        "y = data[['Price']]\n",
        "linreg = linear_model.LinearRegression()\n",
        "linreg.fit(x, y)\n",
        "print('intercept:', linreg.intercept_)\n",
        "print('coefficients:', linreg.coef_)"
      ],
      "metadata": {
        "id": "BkVkv-GB-9vU"
      },
      "execution_count": null,
      "outputs": []
    },
    {
      "cell_type": "code",
      "source": [
        "print('r-squared: ', linreg.score(x, y))"
      ],
      "metadata": {
        "id": "uvUO9sPP_Eh2"
      },
      "execution_count": null,
      "outputs": []
    },
    {
      "cell_type": "code",
      "source": [
        "combinations = []\n",
        "for x in range(1,8):\n",
        "    combinations.append(itertools.combinations(feature, x))\n",
        "best_score = 0\n",
        "for item in combinations:\n",
        "    for group in item:\n",
        "        group = list(group)\n",
        "        x = data[feature]\n",
        "        linreg = linear_model.LinearRegression()\n",
        "        linreg.fit(x, price)\n",
        "      "
      ],
      "metadata": {
        "id": "10RZBfeq_Fep"
      },
      "execution_count": null,
      "outputs": []
    }
  ]
}